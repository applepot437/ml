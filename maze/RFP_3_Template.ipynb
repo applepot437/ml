{
 "cells": [
  {
   "cell_type": "markdown",
   "id": "fdb73e9d",
   "metadata": {},
   "source": [
    "# RFP: Maze Solvers\n",
    "\n",
    "## Project Overview\n",
    "You are invited to submit a proposal that answers the following question:\n",
    "\n",
    "### What path will your elf take?\n",
    "\n",
    "*Please submit your proposal by **2/11/25 at 11:59 PM**.*"
   ]
  },
  {
   "cell_type": "markdown",
   "id": "d88b6a60",
   "metadata": {},
   "source": [
    "## Required Proposal Components\n",
    "\n",
    "### 1. Data Description\n",
    "In the code cell below, use [Gymnasium](https://gymnasium.farama.org/) to set up a [Frozen Lake maze](https://gymnasium.farama.org/environments/toy_text/frozen_lake/) for your project. When you are done with the set up, describe the reward system you plan on using.\n",
    "\n",
    "*Note, a level 5 maze is at least 10 x 10 cells large and contains at least five lake cells.*"
   ]
  },
  {
   "cell_type": "code",
   "execution_count": 1,
   "id": "0a99a33f",
   "metadata": {},
   "outputs": [
    {
     "name": "stdout",
     "output_type": "stream",
     "text": [
      "Defaulting to user installation because normal site-packages is not writeable\n",
      "Requirement already satisfied: gymnasium[toy-text] in c:\\users\\bgraham\\appdata\\roaming\\python\\python39\\site-packages (1.0.0)\n",
      "Requirement already satisfied: farama-notifications>=0.0.1 in c:\\users\\bgraham\\appdata\\roaming\\python\\python39\\site-packages (from gymnasium[toy-text]) (0.0.4)\n",
      "Requirement already satisfied: typing-extensions>=4.3.0 in c:\\programdata\\anaconda3\\lib\\site-packages (from gymnasium[toy-text]) (4.3.0)\n",
      "Requirement already satisfied: numpy>=1.21.0 in c:\\programdata\\anaconda3\\lib\\site-packages (from gymnasium[toy-text]) (1.23.5)\n",
      "Requirement already satisfied: importlib-metadata>=4.8.0 in c:\\programdata\\anaconda3\\lib\\site-packages (from gymnasium[toy-text]) (4.11.3)\n",
      "Requirement already satisfied: cloudpickle>=1.2.0 in c:\\programdata\\anaconda3\\lib\\site-packages (from gymnasium[toy-text]) (2.0.0)\n",
      "Requirement already satisfied: pygame>=2.1.3 in c:\\users\\bgraham\\appdata\\roaming\\python\\python39\\site-packages (from gymnasium[toy-text]) (2.6.1)\n",
      "Requirement already satisfied: zipp>=0.5 in c:\\programdata\\anaconda3\\lib\\site-packages (from importlib-metadata>=4.8.0->gymnasium[toy-text]) (3.8.0)\n"
     ]
    }
   ],
   "source": [
    "!pip install \"gymnasium[toy-text]\""
   ]
  },
  {
   "cell_type": "code",
   "execution_count": 10,
   "id": "8744bf04",
   "metadata": {},
   "outputs": [],
   "source": [
    "import gymnasium as gym\n",
    "import pandas as pd\n",
    "import random"
   ]
  },
  {
   "cell_type": "code",
   "execution_count": 12,
   "id": "34314a12",
   "metadata": {},
   "outputs": [],
   "source": [
    "# Make maze\n",
    "env = gym.make('FrozenLake-v1', desc=[\n",
    "        \"SFFFFHHFHF\",\n",
    "        \"FFFFFFHFFF\",\n",
    "        \"FHFHFFFFFH\",\n",
    "        \"FHFFHHFFFF\",\n",
    "        \"FFFHFFFHHH\",\n",
    "        \"FHHFFFHFFH\",\n",
    "        \"FHFFHFHFHH\",\n",
    "        \"FFFHFFFFHF\",\n",
    "        \"FFFHFHFFFF\",\n",
    "        \"HFFHFFFFHG\",\n",
    "    ], render_mode='human')\n",
    "initial_state = env.reset()\n",
    "\n",
    "env.render()\n",
    "\n",
    "# Take a step (0: LEFT, 1: DOWN, 2: RIGHT, 3: UP)\n",
    "action = 2\n",
    "new_state, reward, terminated, truncated, info = env.step(action)\n",
    "\n",
    "env.render()\n"
   ]
  },
  {
   "cell_type": "code",
   "execution_count": 14,
   "id": "a691d6ec",
   "metadata": {},
   "outputs": [],
   "source": [
    "env.close()"
   ]
  },
  {
   "cell_type": "markdown",
   "id": "c38ed9f9",
   "metadata": {},
   "source": [
    "#### +1 for gift\n",
    "#### 0 for basic land\n",
    "#### -1 for falling in lake"
   ]
  },
  {
   "cell_type": "markdown",
   "id": "67f80b3f",
   "metadata": {},
   "source": [
    "### 2. Training Your Model\n",
    "In the cell seen below, write the code you need to train a Q-Learning model. Display your final Q-table once you are done training your model.\n",
    "\n",
    "*Note, level 5 work uses only the standard Python library and Pandas to train your Q-Learning model. A level 4 uses external libraries like Baseline3.*"
   ]
  },
  {
   "cell_type": "code",
   "execution_count": 5,
   "id": "73e62305",
   "metadata": {},
   "outputs": [],
   "source": [
    "q = {\n",
    "    0: [0,0,0,0], \n",
    "    1: [0,0,0,0], \n",
    "    2: [0,0,0,0], \n",
    "    3: [0,0,0,0],\n",
    "    4: [0,0,0,0],\n",
    "    5: [0,0,0,0],\n",
    "    6: [0,0,0,0], \n",
    "    7: [0,0,0,0], \n",
    "    8: [0,0,0,0], \n",
    "    9: [0,0,0,0],\n",
    "    10: [0,0,0,0], \n",
    "    11: [0,0,0,0], \n",
    "    12: [0,0,0,0], \n",
    "    13: [0,0,0,0],\n",
    "    14: [0,0,0,0],\n",
    "    15: [0,0,0,0],\n",
    "    16: [0,0,0,0], \n",
    "    17: [0,0,0,0], \n",
    "    18: [0,0,0,0], \n",
    "    19: [0,0,0,0],\n",
    "    20: [0,0,0,0], \n",
    "    21: [0,0,0,0], \n",
    "    22: [0,0,0,0], \n",
    "    23: [0,0,0,0],\n",
    "    24: [0,0,0,0],\n",
    "    25: [0,0,0,0],\n",
    "    26: [0,0,0,0], \n",
    "    27: [0,0,0,0], \n",
    "    28: [0,0,0,0], \n",
    "    29: [0,0,0,0],\n",
    "    30: [0,0,0,0], \n",
    "    31: [0,0,0,0], \n",
    "    32: [0,0,0,0], \n",
    "    33: [0,0,0,0],\n",
    "    34: [0,0,0,0],\n",
    "    35: [0,0,0,0],\n",
    "    36: [0,0,0,0], \n",
    "    37: [0,0,0,0], \n",
    "    38: [0,0,0,0], \n",
    "    39: [0,0,0,0],\n",
    "    40: [0,0,0,0], \n",
    "    41: [0,0,0,0], \n",
    "    42: [0,0,0,0], \n",
    "    43: [0,0,0,0],\n",
    "    44: [0,0,0,0],\n",
    "    45: [0,0,0,0],\n",
    "    46: [0,0,0,0], \n",
    "    47: [0,0,0,0], \n",
    "    48: [0,0,0,0], \n",
    "    49: [0,0,0,0],\n",
    "    50: [0,0,0,0], \n",
    "    51: [0,0,0,0], \n",
    "    52: [0,0,0,0], \n",
    "    53: [0,0,0,0],\n",
    "    54: [0,0,0,0],\n",
    "    55: [0,0,0,0],\n",
    "    56: [0,0,0,0], \n",
    "    57: [0,0,0,0], \n",
    "    58: [0,0,0,0], \n",
    "    59: [0,0,0,0],\n",
    "    60: [0,0,0,0], \n",
    "    61: [0,0,0,0], \n",
    "    62: [0,0,0,0], \n",
    "    63: [0,0,0,0],\n",
    "    64: [0,0,0,0],\n",
    "    65: [0,0,0,0],\n",
    "    66: [0,0,0,0], \n",
    "    67: [0,0,0,0], \n",
    "    68: [0,0,0,0], \n",
    "    69: [0,0,0,0],\n",
    "    70: [0,0,0,0], \n",
    "    71: [0,0,0,0], \n",
    "    72: [0,0,0,0], \n",
    "    73: [0,0,0,0],\n",
    "    74: [0,0,0,0],\n",
    "    75: [0,0,0,0],\n",
    "    76: [0,0,0,0], \n",
    "    77: [0,0,0,0], \n",
    "    78: [0,0,0,0], \n",
    "    79: [0,0,0,0],\n",
    "    80: [0,0,0,0], \n",
    "    81: [0,0,0,0], \n",
    "    82: [0,0,0,0], \n",
    "    83: [0,0,0,0],\n",
    "    84: [0,0,0,0],\n",
    "    85: [0,0,0,0],\n",
    "    86: [0,0,0,0], \n",
    "    87: [0,0,0,0], \n",
    "    88: [0,0,0,0], \n",
    "    89: [0,0,0,0],\n",
    "    90: [0,0,0,0], \n",
    "    91: [0,0,0,0], \n",
    "    92: [0,0,0,0], \n",
    "    93: [0,0,0,0],\n",
    "    94: [0,0,0,0],\n",
    "    95: [0,0,0,0],\n",
    "    96: [0,0,0,0], \n",
    "    97: [0,0,0,0], \n",
    "    98: [0,0,0,0], \n",
    "    99: [0,0,0,0],\n",
    "}"
   ]
  },
  {
   "cell_type": "code",
   "execution_count": 6,
   "id": "b092b31f",
   "metadata": {},
   "outputs": [],
   "source": [
    "cell_types = \"SFFFFHHFHFFFFFFFHFFFFHFHFFFFFHFHFFHHFFFFFFFHFFFHHHFHHFFFHFFHFHFFHFHFHHFFFHFFFFHFFFFHFHFFFFHFFHFFFFHG\"\n",
    "\n",
    "def getReward(state):\n",
    "    if cell_types[state] == \"G\":\n",
    "        return 1\n",
    "    elif cell_types[state] == \"H\":\n",
    "        return -1\n",
    "    else:\n",
    "        return 0"
   ]
  },
  {
   "cell_type": "code",
   "execution_count": 7,
   "id": "916af135",
   "metadata": {},
   "outputs": [],
   "source": [
    "def updateQTable(q, alpha, gamma, current_state, next_state, action):\n",
    "    current_q = q[current_state][action]\n",
    "    reward = getReward(next_state)\n",
    "    next_state_row = [q[next_state][0], q[next_state][1], q[next_state][2], q[next_state][3]] \n",
    "    next_max_q = max(next_state_row)\n",
    "    new_q = ((1-alpha) * current_q) + (alpha * (reward + (gamma * next_max_q)))\n",
    "    q[current_state][action] = new_q"
   ]
  },
  {
   "cell_type": "code",
   "execution_count": 13,
   "id": "8e890891",
   "metadata": {},
   "outputs": [],
   "source": [
    "current_state = 0\n",
    "alpha = 0.2\n",
    "gamma = 0.8\n",
    "terminated = False\n",
    "for episode in range(100):\n",
    "    while not terminated:\n",
    "        action = random.randint(0, 3)\n",
    "        new_state, reward, terminated, truncated, info = env.step(action)\n",
    "        updateQTable(q, alpha, gamma, current_state, new_state, action)\n",
    "        current_state = new_state\n",
    "    inital = env.reset()\n",
    "    terminated = False"
   ]
  },
  {
   "cell_type": "code",
   "execution_count": 15,
   "id": "3ee51040",
   "metadata": {},
   "outputs": [
    {
     "data": {
      "text/html": [
       "<div>\n",
       "<style scoped>\n",
       "    .dataframe tbody tr th:only-of-type {\n",
       "        vertical-align: middle;\n",
       "    }\n",
       "\n",
       "    .dataframe tbody tr th {\n",
       "        vertical-align: top;\n",
       "    }\n",
       "\n",
       "    .dataframe thead th {\n",
       "        text-align: right;\n",
       "    }\n",
       "</style>\n",
       "<table border=\"1\" class=\"dataframe\">\n",
       "  <thead>\n",
       "    <tr style=\"text-align: right;\">\n",
       "      <th></th>\n",
       "      <th>Left</th>\n",
       "      <th>Down</th>\n",
       "      <th>Right</th>\n",
       "      <th>Up</th>\n",
       "    </tr>\n",
       "  </thead>\n",
       "  <tbody>\n",
       "    <tr>\n",
       "      <th>0</th>\n",
       "      <td>0.0</td>\n",
       "      <td>0.000</td>\n",
       "      <td>0.000000</td>\n",
       "      <td>0.00</td>\n",
       "    </tr>\n",
       "    <tr>\n",
       "      <th>1</th>\n",
       "      <td>0.0</td>\n",
       "      <td>0.000</td>\n",
       "      <td>0.000000</td>\n",
       "      <td>0.00</td>\n",
       "    </tr>\n",
       "    <tr>\n",
       "      <th>2</th>\n",
       "      <td>0.0</td>\n",
       "      <td>0.000</td>\n",
       "      <td>0.000000</td>\n",
       "      <td>0.00</td>\n",
       "    </tr>\n",
       "    <tr>\n",
       "      <th>3</th>\n",
       "      <td>0.0</td>\n",
       "      <td>0.000</td>\n",
       "      <td>0.000000</td>\n",
       "      <td>0.00</td>\n",
       "    </tr>\n",
       "    <tr>\n",
       "      <th>4</th>\n",
       "      <td>0.0</td>\n",
       "      <td>-0.328</td>\n",
       "      <td>-0.436749</td>\n",
       "      <td>-0.16</td>\n",
       "    </tr>\n",
       "    <tr>\n",
       "      <th>5</th>\n",
       "      <td>0.0</td>\n",
       "      <td>0.000</td>\n",
       "      <td>0.000000</td>\n",
       "      <td>0.00</td>\n",
       "    </tr>\n",
       "  </tbody>\n",
       "</table>\n",
       "</div>"
      ],
      "text/plain": [
       "   Left   Down     Right    Up\n",
       "0   0.0  0.000  0.000000  0.00\n",
       "1   0.0  0.000  0.000000  0.00\n",
       "2   0.0  0.000  0.000000  0.00\n",
       "3   0.0  0.000  0.000000  0.00\n",
       "4   0.0 -0.328 -0.436749 -0.16\n",
       "5   0.0  0.000  0.000000  0.00"
      ]
     },
     "execution_count": 15,
     "metadata": {},
     "output_type": "execute_result"
    }
   ],
   "source": [
    "df = pd.DataFrame(q)\n",
    "df = df.T\n",
    "df.columns = [\"Left\", \"Down\", \"Right\", \"Up\"]\n",
    "df.head(6)"
   ]
  },
  {
   "cell_type": "markdown",
   "id": "3b912364",
   "metadata": {},
   "source": [
    "### 3. Testing Your Model\n",
    "In the cell seen below, write the code you need to test your Q-Learning model for **1000 episodes**. It is important to test your model for 1000 episodes so that we are all able to compare our results.\n",
    "\n",
    "*Note, level 5 testing uses both a success rate and an average steps taken metric to evaluate your model. Level 4 uses one or the other.*"
   ]
  },
  {
   "cell_type": "code",
   "execution_count": 8,
   "id": "e30cf1dd",
   "metadata": {},
   "outputs": [],
   "source": [
    "# Test model here."
   ]
  },
  {
   "cell_type": "markdown",
   "id": "78e7e09e",
   "metadata": {},
   "source": [
    "### 4. Final Answer\n",
    "In the first cell below, describe the path your elf takes to get to the gift. *Note, a level 5 answer includes a gif of the path your elf takes in order to reach the gift.*\n",
    "\n",
    "In the second cell seen below, describe how well your Q-Learning model performed. Make sure that you explicitly name the **learning rate**, **the discount factor**, and the **reward system** that you used when training your final model. *Note, a level 5 description describes the model's performance using two types of quantitative evidence.*"
   ]
  },
  {
   "cell_type": "markdown",
   "id": "9b6eef8e",
   "metadata": {},
   "source": [
    "![example image](https://gymnasium.farama.org/_images/frozen_lake.gif)"
   ]
  },
  {
   "cell_type": "markdown",
   "id": "54fdae15",
   "metadata": {},
   "source": [
    "#### Describe the path your elf takes here."
   ]
  },
  {
   "cell_type": "markdown",
   "id": "6b8f66ed",
   "metadata": {},
   "source": [
    "#### Describe how well your Q-Learning model performed here."
   ]
  }
 ],
 "metadata": {
  "kernelspec": {
   "display_name": "Python 3 (ipykernel)",
   "language": "python",
   "name": "python3"
  },
  "language_info": {
   "codemirror_mode": {
    "name": "ipython",
    "version": 3
   },
   "file_extension": ".py",
   "mimetype": "text/x-python",
   "name": "python",
   "nbconvert_exporter": "python",
   "pygments_lexer": "ipython3",
   "version": "3.9.13"
  }
 },
 "nbformat": 4,
 "nbformat_minor": 5
}
