{
 "cells": [
  {
   "cell_type": "markdown",
   "id": "fdb73e9d",
   "metadata": {},
   "source": [
    "# RFP: Maze Solvers\n",
    "\n",
    "## Project Overview\n",
    "You are invited to submit a proposal that answers the following question:\n",
    "\n",
    "### What path will your elf take?\n",
    "\n",
    "*Please submit your proposal by **2/11/25 at 11:59 PM**.*"
   ]
  },
  {
   "cell_type": "markdown",
   "id": "d88b6a60",
   "metadata": {},
   "source": [
    "## Required Proposal Components\n",
    "\n",
    "### 1. Data Description\n",
    "In the code cell below, use [Gymnasium](https://gymnasium.farama.org/) to set up a [Frozen Lake maze](https://gymnasium.farama.org/environments/toy_text/frozen_lake/) for your project. When you are done with the set up, describe the reward system you plan on using.\n",
    "\n",
    "*Note, a level 5 maze is at least 10 x 10 cells large and contains at least five lake cells.*"
   ]
  },
  {
   "cell_type": "code",
   "execution_count": 10,
   "id": "8744bf04",
   "metadata": {},
   "outputs": [],
   "source": [
    "import gymnasium as gym\n",
    "import pandas as pd\n",
    "import random\n",
    "import numpy as np"
   ]
  },
  {
   "cell_type": "code",
   "execution_count": 2,
   "id": "34314a12",
   "metadata": {},
   "outputs": [],
   "source": [
    "# Make maze\n",
    "env = gym.make('FrozenLake-v1', desc=[\n",
    "        \"SFFFFHHFHF\",\n",
    "        \"FFFFFFHFFF\",\n",
    "        \"FHFHFFFFFH\",\n",
    "        \"FHFFHHFFFF\",\n",
    "        \"FFFHFFFHHH\",\n",
    "        \"FHHFFFHFFH\",\n",
    "        \"FHFFHFHFHH\",\n",
    "        \"FFFHFFFFHF\",\n",
    "        \"FFFHFHFFFF\",\n",
    "        \"HFFHFFFFHG\",\n",
    "    ], render_mode='human')\n",
    "initial_state = env.reset()\n",
    "\n",
    "env.render()\n"
   ]
  },
  {
   "cell_type": "markdown",
   "id": "c38ed9f9",
   "metadata": {},
   "source": [
    "#### +1 for gift\n",
    "#### 0 for basic land\n",
    "#### -1 for falling in lake"
   ]
  },
  {
   "cell_type": "markdown",
   "id": "67f80b3f",
   "metadata": {},
   "source": [
    "### 2. Training Your Model\n",
    "In the cell seen below, write the code you need to train a Q-Learning model. Display your final Q-table once you are done training your model.\n",
    "\n",
    "*Note, level 5 work uses only the standard Python library and Pandas to train your Q-Learning model. A level 4 uses external libraries like Baseline3.*"
   ]
  },
  {
   "cell_type": "code",
   "execution_count": 3,
   "id": "73e62305",
   "metadata": {},
   "outputs": [],
   "source": [
    "q = {\n",
    "    0: [0,0,0,0], \n",
    "    1: [0,0,0,0], \n",
    "    2: [0,0,0,0], \n",
    "    3: [0,0,0,0],\n",
    "    4: [0,0,0,0],\n",
    "    5: [0,0,0,0],\n",
    "    6: [0,0,0,0], \n",
    "    7: [0,0,0,0], \n",
    "    8: [0,0,0,0], \n",
    "    9: [0,0,0,0],\n",
    "    10: [0,0,0,0], \n",
    "    11: [0,0,0,0], \n",
    "    12: [0,0,0,0], \n",
    "    13: [0,0,0,0],\n",
    "    14: [0,0,0,0],\n",
    "    15: [0,0,0,0],\n",
    "    16: [0,0,0,0], \n",
    "    17: [0,0,0,0], \n",
    "    18: [0,0,0,0], \n",
    "    19: [0,0,0,0],\n",
    "    20: [0,0,0,0], \n",
    "    21: [0,0,0,0], \n",
    "    22: [0,0,0,0], \n",
    "    23: [0,0,0,0],\n",
    "    24: [0,0,0,0],\n",
    "    25: [0,0,0,0],\n",
    "    26: [0,0,0,0], \n",
    "    27: [0,0,0,0], \n",
    "    28: [0,0,0,0], \n",
    "    29: [0,0,0,0],\n",
    "    30: [0,0,0,0], \n",
    "    31: [0,0,0,0], \n",
    "    32: [0,0,0,0], \n",
    "    33: [0,0,0,0],\n",
    "    34: [0,0,0,0],\n",
    "    35: [0,0,0,0],\n",
    "    36: [0,0,0,0], \n",
    "    37: [0,0,0,0], \n",
    "    38: [0,0,0,0], \n",
    "    39: [0,0,0,0],\n",
    "    40: [0,0,0,0], \n",
    "    41: [0,0,0,0], \n",
    "    42: [0,0,0,0], \n",
    "    43: [0,0,0,0],\n",
    "    44: [0,0,0,0],\n",
    "    45: [0,0,0,0],\n",
    "    46: [0,0,0,0], \n",
    "    47: [0,0,0,0], \n",
    "    48: [0,0,0,0], \n",
    "    49: [0,0,0,0],\n",
    "    50: [0,0,0,0], \n",
    "    51: [0,0,0,0], \n",
    "    52: [0,0,0,0], \n",
    "    53: [0,0,0,0],\n",
    "    54: [0,0,0,0],\n",
    "    55: [0,0,0,0],\n",
    "    56: [0,0,0,0], \n",
    "    57: [0,0,0,0], \n",
    "    58: [0,0,0,0], \n",
    "    59: [0,0,0,0],\n",
    "    60: [0,0,0,0], \n",
    "    61: [0,0,0,0], \n",
    "    62: [0,0,0,0], \n",
    "    63: [0,0,0,0],\n",
    "    64: [0,0,0,0],\n",
    "    65: [0,0,0,0],\n",
    "    66: [0,0,0,0], \n",
    "    67: [0,0,0,0], \n",
    "    68: [0,0,0,0], \n",
    "    69: [0,0,0,0],\n",
    "    70: [0,0,0,0], \n",
    "    71: [0,0,0,0], \n",
    "    72: [0,0,0,0], \n",
    "    73: [0,0,0,0],\n",
    "    74: [0,0,0,0],\n",
    "    75: [0,0,0,0],\n",
    "    76: [0,0,0,0], \n",
    "    77: [0,0,0,0], \n",
    "    78: [0,0,0,0], \n",
    "    79: [0,0,0,0],\n",
    "    80: [0,0,0,0], \n",
    "    81: [0,0,0,0], \n",
    "    82: [0,0,0,0], \n",
    "    83: [0,0,0,0],\n",
    "    84: [0,0,0,0],\n",
    "    85: [0,0,0,0],\n",
    "    86: [0,0,0,0], \n",
    "    87: [0,0,0,0], \n",
    "    88: [0,0,0,0], \n",
    "    89: [0,0,0,0],\n",
    "    90: [0,0,0,0], \n",
    "    91: [0,0,0,0], \n",
    "    92: [0,0,0,0], \n",
    "    93: [0,0,0,0],\n",
    "    94: [0,0,0,0],\n",
    "    95: [0,0,0,0],\n",
    "    96: [0,0,0,0], \n",
    "    97: [0,0,0,0], \n",
    "    98: [0,0,0,0], \n",
    "    99: [0,0,0,0],\n",
    "}"
   ]
  },
  {
   "cell_type": "code",
   "execution_count": 4,
   "id": "b092b31f",
   "metadata": {},
   "outputs": [],
   "source": [
    "cell_types = \"SFFFFHHFHFFFFFFFHFFFFHFHFFFFFHFHFFHHFFFFFFFHFFFHHHFHHFFFHFFHFHFFHFHFHHFFFHFFFFHFFFFHFHFFFFHFFHFFFFHG\"\n",
    "\n",
    "def getReward(state):\n",
    "    if cell_types[state] == \"G\":\n",
    "        return 1\n",
    "    elif cell_types[state] == \"H\":\n",
    "        return -1\n",
    "    else:\n",
    "        return -10"
   ]
  },
  {
   "cell_type": "code",
   "execution_count": 5,
   "id": "916af135",
   "metadata": {},
   "outputs": [],
   "source": [
    "def updateQTable(q, alpha, gamma, current_state, next_state, action):\n",
    "    current_q = q[current_state][action]\n",
    "    reward = getReward(next_state)\n",
    "    next_state_row = [q[next_state][0], q[next_state][1], q[next_state][2], q[next_state][3]] \n",
    "    next_max_q = max(next_state_row)\n",
    "    new_q = ((1-alpha) * current_q) + (alpha * (reward + (gamma * next_max_q)))\n",
    "    q[current_state][action] = new_q"
   ]
  },
  {
   "cell_type": "code",
   "execution_count": 6,
   "id": "8e890891",
   "metadata": {},
   "outputs": [],
   "source": [
    "current_state = 0\n",
    "alpha = 0.2\n",
    "gamma = 0.8\n",
    "terminated = False\n",
    "for episode in range(100):\n",
    "    while not terminated:\n",
    "        action = random.randint(0, 3)\n",
    "        new_state, reward, terminated, truncated, info = env.step(action)\n",
    "        updateQTable(q, alpha, gamma, current_state, new_state, action)\n",
    "        current_state = new_state\n",
    "    inital = env.reset()\n",
    "    terminated = False"
   ]
  },
  {
   "cell_type": "code",
   "execution_count": 7,
   "id": "3ee51040",
   "metadata": {},
   "outputs": [
    {
     "data": {
      "text/html": [
       "<div>\n",
       "<style scoped>\n",
       "    .dataframe tbody tr th:only-of-type {\n",
       "        vertical-align: middle;\n",
       "    }\n",
       "\n",
       "    .dataframe tbody tr th {\n",
       "        vertical-align: top;\n",
       "    }\n",
       "\n",
       "    .dataframe thead th {\n",
       "        text-align: right;\n",
       "    }\n",
       "</style>\n",
       "<table border=\"1\" class=\"dataframe\">\n",
       "  <thead>\n",
       "    <tr style=\"text-align: right;\">\n",
       "      <th></th>\n",
       "      <th>Left</th>\n",
       "      <th>Down</th>\n",
       "      <th>Right</th>\n",
       "      <th>Up</th>\n",
       "    </tr>\n",
       "  </thead>\n",
       "  <tbody>\n",
       "    <tr>\n",
       "      <th>0</th>\n",
       "      <td>-33.702409</td>\n",
       "      <td>-31.065389</td>\n",
       "      <td>-31.986499</td>\n",
       "      <td>-33.538711</td>\n",
       "    </tr>\n",
       "    <tr>\n",
       "      <th>1</th>\n",
       "      <td>-32.473492</td>\n",
       "      <td>-31.911449</td>\n",
       "      <td>-26.807790</td>\n",
       "      <td>-28.614133</td>\n",
       "    </tr>\n",
       "    <tr>\n",
       "      <th>2</th>\n",
       "      <td>-24.254346</td>\n",
       "      <td>-20.967512</td>\n",
       "      <td>-21.768512</td>\n",
       "      <td>-24.075442</td>\n",
       "    </tr>\n",
       "    <tr>\n",
       "      <th>3</th>\n",
       "      <td>-17.753784</td>\n",
       "      <td>-20.551406</td>\n",
       "      <td>-16.704526</td>\n",
       "      <td>-20.942146</td>\n",
       "    </tr>\n",
       "    <tr>\n",
       "      <th>4</th>\n",
       "      <td>-15.826799</td>\n",
       "      <td>-10.291169</td>\n",
       "      <td>-13.147941</td>\n",
       "      <td>-12.766901</td>\n",
       "    </tr>\n",
       "    <tr>\n",
       "      <th>5</th>\n",
       "      <td>-14.441420</td>\n",
       "      <td>-6.152298</td>\n",
       "      <td>-11.114435</td>\n",
       "      <td>-11.214485</td>\n",
       "    </tr>\n",
       "  </tbody>\n",
       "</table>\n",
       "</div>"
      ],
      "text/plain": [
       "        Left       Down      Right         Up\n",
       "0 -33.702409 -31.065389 -31.986499 -33.538711\n",
       "1 -32.473492 -31.911449 -26.807790 -28.614133\n",
       "2 -24.254346 -20.967512 -21.768512 -24.075442\n",
       "3 -17.753784 -20.551406 -16.704526 -20.942146\n",
       "4 -15.826799 -10.291169 -13.147941 -12.766901\n",
       "5 -14.441420  -6.152298 -11.114435 -11.214485"
      ]
     },
     "execution_count": 7,
     "metadata": {},
     "output_type": "execute_result"
    }
   ],
   "source": [
    "df = pd.DataFrame(q)\n",
    "df = df.T\n",
    "df.columns = [\"Left\", \"Down\", \"Right\", \"Up\"]\n",
    "df.head(6)"
   ]
  },
  {
   "cell_type": "markdown",
   "id": "3b912364",
   "metadata": {},
   "source": [
    "### 3. Testing Your Model\n",
    "In the cell seen below, write the code you need to test your Q-Learning model for **1000 episodes**. It is important to test your model for 1000 episodes so that we are all able to compare our results.\n",
    "\n",
    "*Note, level 5 testing uses both a success rate and an average steps taken metric to evaluate your model. Level 4 uses one or the other.*"
   ]
  },
  {
   "cell_type": "code",
   "execution_count": 31,
   "id": "e30cf1dd",
   "metadata": {},
   "outputs": [],
   "source": [
    "initial_state = env.reset()\n",
    "env.render()"
   ]
  },
  {
   "cell_type": "code",
   "execution_count": 12,
   "id": "08385243",
   "metadata": {},
   "outputs": [
    {
     "name": "stdout",
     "output_type": "stream",
     "text": [
      "Tested over 1000 episodes.\n",
      "Average Reward: 0.000\n",
      "Success Rate: 0.00%\n",
      "Average Steps per Episode: 8.15\n"
     ]
    }
   ],
   "source": [
    "num_episodes = 1000\n",
    "total_rewards = []\n",
    "total_steps = []\n",
    "\n",
    "for episode in range(num_episodes):\n",
    "    state, _ = env.reset()\n",
    "    done = False\n",
    "    episode_reward = 0\n",
    "    step_count = 0  # Track steps per episode\n",
    "\n",
    "    while not done:\n",
    "        action = np.argmax(q[state])  # Choose best action\n",
    "        next_state, reward, done, _, _ = env.step(action)  # Step\n",
    "        episode_reward += reward\n",
    "        state = next_state  # Move to next state\n",
    "        step_count += 1  # Increment step count\n",
    "\n",
    "    total_rewards.append(episode_reward)\n",
    "    total_steps.append(step_count)  # Store steps per episode\n",
    "\n",
    "# Evaluation results\n",
    "average_reward = np.mean(total_rewards)\n",
    "success_rate = np.sum(total_rewards) / num_episodes  # Assuming reward 1 = success\n",
    "average_steps = np.mean(total_steps)  # Calculate average steps per episode\n",
    "\n",
    "print(f\"Tested over {num_episodes} episodes.\")\n",
    "print(f\"Average Reward: {average_reward:.3f}\")\n",
    "print(f\"Success Rate: {success_rate:.2%}\")\n",
    "print(f\"Average Steps per Episode: {average_steps:.2f}\")"
   ]
  },
  {
   "cell_type": "markdown",
   "id": "78e7e09e",
   "metadata": {},
   "source": [
    "### 4. Final Answer\n",
    "In the first cell below, describe the path your elf takes to get to the gift. *Note, a level 5 answer includes a gif of the path your elf takes in order to reach the gift.*\n",
    "\n",
    "In the second cell seen below, describe how well your Q-Learning model performed. Make sure that you explicitly name the **learning rate**, **the discount factor**, and the **reward system** that you used when training your final model. *Note, a level 5 description describes the model's performance using two types of quantitative evidence.*"
   ]
  },
  {
   "cell_type": "markdown",
   "id": "9b6eef8e",
   "metadata": {},
   "source": [
    "[example image](https://github.com/applepot437/ml/blob/main/maze/FrozenLake2025-02-2510-12-32-ezgif.com-video-to-gif-converter%20(1).gif)"
   ]
  },
  {
   "cell_type": "markdown",
   "id": "54fdae15",
   "metadata": {},
   "source": [
    "#### My elf takes a multitude of turns, almost every time it moves, and it often falls into lakes after the first few turns. "
   ]
  },
  {
   "cell_type": "markdown",
   "id": "6b8f66ed",
   "metadata": {},
   "source": [
    "#### This is becauses of the flawed learning rate, and how small the discount value is. My Q-Means model has rather small values for its reward system, which would explain its poor preformance. Another reason is that my maze is rather complicated, which could make my model run poorly."
   ]
  },
  {
   "cell_type": "code",
   "execution_count": null,
   "id": "52b77198",
   "metadata": {},
   "outputs": [],
   "source": []
  }
 ],
 "metadata": {
  "kernelspec": {
   "display_name": "Python 3 (ipykernel)",
   "language": "python",
   "name": "python3"
  },
  "language_info": {
   "codemirror_mode": {
    "name": "ipython",
    "version": 3
   },
   "file_extension": ".py",
   "mimetype": "text/x-python",
   "name": "python",
   "nbconvert_exporter": "python",
   "pygments_lexer": "ipython3",
   "version": "3.9.13"
  }
 },
 "nbformat": 4,
 "nbformat_minor": 5
}
