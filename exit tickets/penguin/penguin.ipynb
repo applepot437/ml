{
 "cells": [
  {
   "cell_type": "code",
   "execution_count": 1,
   "id": "0f29b6e3",
   "metadata": {},
   "outputs": [],
   "source": [
    "import pandas as pd\n",
    "from sklearn.model_selection import train_test_split  \n",
    "from sklearn.cluster import KMeans"
   ]
  },
  {
   "cell_type": "code",
   "execution_count": 2,
   "id": "7ec77ab2",
   "metadata": {},
   "outputs": [
    {
     "data": {
      "text/html": [
       "<div>\n",
       "<style scoped>\n",
       "    .dataframe tbody tr th:only-of-type {\n",
       "        vertical-align: middle;\n",
       "    }\n",
       "\n",
       "    .dataframe tbody tr th {\n",
       "        vertical-align: top;\n",
       "    }\n",
       "\n",
       "    .dataframe thead th {\n",
       "        text-align: right;\n",
       "    }\n",
       "</style>\n",
       "<table border=\"1\" class=\"dataframe\">\n",
       "  <thead>\n",
       "    <tr style=\"text-align: right;\">\n",
       "      <th></th>\n",
       "      <th>culmen_length_mm</th>\n",
       "      <th>culmen_depth_mm</th>\n",
       "      <th>flipper_length_mm</th>\n",
       "      <th>body_mass_g</th>\n",
       "      <th>sex</th>\n",
       "    </tr>\n",
       "  </thead>\n",
       "  <tbody>\n",
       "    <tr>\n",
       "      <th>0</th>\n",
       "      <td>39.1</td>\n",
       "      <td>18.7</td>\n",
       "      <td>181.0</td>\n",
       "      <td>3750.0</td>\n",
       "      <td>MALE</td>\n",
       "    </tr>\n",
       "    <tr>\n",
       "      <th>1</th>\n",
       "      <td>39.5</td>\n",
       "      <td>17.4</td>\n",
       "      <td>186.0</td>\n",
       "      <td>3800.0</td>\n",
       "      <td>FEMALE</td>\n",
       "    </tr>\n",
       "    <tr>\n",
       "      <th>2</th>\n",
       "      <td>40.3</td>\n",
       "      <td>18.0</td>\n",
       "      <td>195.0</td>\n",
       "      <td>3250.0</td>\n",
       "      <td>FEMALE</td>\n",
       "    </tr>\n",
       "    <tr>\n",
       "      <th>3</th>\n",
       "      <td>NaN</td>\n",
       "      <td>NaN</td>\n",
       "      <td>NaN</td>\n",
       "      <td>NaN</td>\n",
       "      <td>NaN</td>\n",
       "    </tr>\n",
       "    <tr>\n",
       "      <th>4</th>\n",
       "      <td>36.7</td>\n",
       "      <td>19.3</td>\n",
       "      <td>193.0</td>\n",
       "      <td>3450.0</td>\n",
       "      <td>FEMALE</td>\n",
       "    </tr>\n",
       "  </tbody>\n",
       "</table>\n",
       "</div>"
      ],
      "text/plain": [
       "   culmen_length_mm  culmen_depth_mm  flipper_length_mm  body_mass_g     sex\n",
       "0              39.1             18.7              181.0       3750.0    MALE\n",
       "1              39.5             17.4              186.0       3800.0  FEMALE\n",
       "2              40.3             18.0              195.0       3250.0  FEMALE\n",
       "3               NaN              NaN                NaN          NaN     NaN\n",
       "4              36.7             19.3              193.0       3450.0  FEMALE"
      ]
     },
     "execution_count": 2,
     "metadata": {},
     "output_type": "execute_result"
    }
   ],
   "source": [
    "df = pd.read_csv('penguins.csv')\n",
    "df.head()"
   ]
  },
  {
   "cell_type": "code",
   "execution_count": 3,
   "id": "78f0ce9b",
   "metadata": {},
   "outputs": [
    {
     "name": "stdout",
     "output_type": "stream",
     "text": [
      "Training set shape: (268, 4)\n",
      "Testing set shape: (67, 4)\n"
     ]
    }
   ],
   "source": [
    "df_cleaned = df.dropna()\n",
    "\n",
    "X = df_cleaned[['culmen_length_mm', 'culmen_depth_mm', 'flipper_length_mm', 'body_mass_g']]\n",
    "\n",
    "X_train, X_test = train_test_split(X, test_size=0.2, random_state=42)\n",
    "\n",
    "print(\"Training set shape:\", X_train.shape)\n",
    "print(\"Testing set shape:\", X_test.shape)"
   ]
  },
  {
   "cell_type": "code",
   "execution_count": 5,
   "id": "e5b6bc5d",
   "metadata": {},
   "outputs": [
    {
     "name": "stdout",
     "output_type": "stream",
     "text": [
      "Cluster centroids:\n",
      "   culmen_length_mm  culmen_depth_mm  flipper_length_mm  body_mass_g\n",
      "0         41.392771        18.062651         190.457831  3536.445783\n",
      "1         44.846535        16.781188         249.316832  4479.702970\n",
      "2         49.050000        15.566176         220.764706  5449.632353\n",
      "\n",
      "Description of Cluster 0:\n",
      "       culmen_length_mm  culmen_depth_mm  flipper_length_mm  body_mass_g  \\\n",
      "count        166.000000       166.000000         166.000000   166.000000   \n",
      "mean          41.392771        18.062651         190.457831  3536.445783   \n",
      "std            5.427467         1.147562           6.849554   299.552727   \n",
      "min           32.100000        13.700000         172.000000  2700.000000   \n",
      "25%           37.300000        17.200000         186.000000  3325.000000   \n",
      "50%           39.700000        18.000000         190.000000  3550.000000   \n",
      "75%           45.675000        18.800000         195.000000  3775.000000   \n",
      "max           58.000000        21.200000         210.000000  4000.000000   \n",
      "\n",
      "       cluster  \n",
      "count    166.0  \n",
      "mean       0.0  \n",
      "std        0.0  \n",
      "min        0.0  \n",
      "25%        0.0  \n",
      "50%        0.0  \n",
      "75%        0.0  \n",
      "max        0.0  \n"
     ]
    }
   ],
   "source": [
    "kmeans = KMeans(n_clusters=3, random_state=42)\n",
    "kmeans.fit(X)\n",
    "\n",
    "# Create a clean copy of the DataFrame to avoid the warning\n",
    "df_cleaned = df.dropna().copy()\n",
    "\n",
    "# Add cluster labels to the dataframe\n",
    "df_cleaned['cluster'] = kmeans.labels_\n",
    "\n",
    "# Print the cluster centroids\n",
    "centroids = pd.DataFrame(kmeans.cluster_centers_, columns=X.columns)\n",
    "print(\"Cluster centroids:\")\n",
    "print(centroids)\n",
    "\n",
    "# Describe one of the clusters\n",
    "cluster_0 = df_cleaned[df_cleaned['cluster'] == 0]\n",
    "description_0 = cluster_0.describe()\n",
    "print(\"\\nDescription of Cluster 0:\")\n",
    "print(description_0)\n"
   ]
  },
  {
   "cell_type": "code",
   "execution_count": null,
   "id": "13b2dfb9",
   "metadata": {},
   "outputs": [],
   "source": []
  }
 ],
 "metadata": {
  "kernelspec": {
   "display_name": "Python 3 (ipykernel)",
   "language": "python",
   "name": "python3"
  },
  "language_info": {
   "codemirror_mode": {
    "name": "ipython",
    "version": 3
   },
   "file_extension": ".py",
   "mimetype": "text/x-python",
   "name": "python",
   "nbconvert_exporter": "python",
   "pygments_lexer": "ipython3",
   "version": "3.9.13"
  }
 },
 "nbformat": 4,
 "nbformat_minor": 5
}
