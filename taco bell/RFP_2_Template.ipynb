{
 "cells": [
  {
   "cell_type": "markdown",
   "id": "1b940825",
   "metadata": {},
   "source": [
    "# RFP: Targeted Taco Bell Ads\n",
    "\n",
    "## Project Overview\n",
    "You are invited to submit a proposal that answers the following question:\n",
    "\n",
    "### What ad will you create and why?\n",
    "\n",
    "*Please submit your proposal by **1/30/25 at 11:59 PM**.*"
   ]
  },
  {
   "cell_type": "markdown",
   "id": "968a85f0",
   "metadata": {},
   "source": [
    "## Required Proposal Components\n",
    "\n",
    "### 1. Data Description\n",
    "In the code cell below, read in the data you will need to train and test your model. Call `info()` once you have read the data into a dataframe. Consider using some or all of the following sources:\n",
    "- [Customer Demographics](https://drive.google.com/file/d/1HK42Oa3bhhRDWR1y1wVBDAQ2tbNwg1gS/view?usp=sharing)\n",
    "- [Ad Response Data](https://drive.google.com/file/d/1cuLqXPNKhP66m5BP9BAlci2G--Vopt-Z/view?usp=sharing)\n",
    "\n",
    "*Note, a level 5 dataset combines these two data sets.*"
   ]
  },
  {
   "cell_type": "code",
   "execution_count": 1,
   "id": "08c1688a",
   "metadata": {
    "scrolled": true
   },
   "outputs": [
    {
     "name": "stdout",
     "output_type": "stream",
     "text": [
      "      customer_id                                            ad_type  \\\n",
      "0            3226                    BOGO - Garlic Steak Nacho Fries   \n",
      "1            5217                                       DISCOUNT-50%   \n",
      "2            5247  REWARD - Free Garlic Steak Nacho Fries with pu...   \n",
      "3            7793                                        DISCOUNT-5%   \n",
      "4            5759                                       DISCOUNT-50%   \n",
      "...           ...                                                ...   \n",
      "9995         3616                                                NaN   \n",
      "9996         7670                                                NaN   \n",
      "9997         7248                                                NaN   \n",
      "9998         7699                                                NaN   \n",
      "9999         2112                                                NaN   \n",
      "\n",
      "                   ad_medium ad_response  \\\n",
      "0          15 sec YouTube ad        True   \n",
      "1          15 sec YouTube ad       False   \n",
      "2          15 sec YouTube ad        True   \n",
      "3     30 sec Hulu commercial       False   \n",
      "4          15 sec YouTube ad       False   \n",
      "...                      ...         ...   \n",
      "9995                     NaN         NaN   \n",
      "9996                     NaN         NaN   \n",
      "9997                     NaN         NaN   \n",
      "9998                     NaN         NaN   \n",
      "9999                     NaN         NaN   \n",
      "\n",
      "                                        items_purchased  \\\n",
      "0     ['steak garlic nacho fries', 'steak garlic nac...   \n",
      "1      ['crunchy taco', 'cheesy bean and rice burrito']   \n",
      "2     ['steak garlic nacho fries', 'cheesy gordita c...   \n",
      "3     ['crunchwrap supreme', 'cravings box', 'crunch...   \n",
      "4                 ['nachos bellgrande', 'crunchy taco']   \n",
      "...                                                 ...   \n",
      "9995                                                NaN   \n",
      "9996                                                NaN   \n",
      "9997                                                NaN   \n",
      "9998                                                NaN   \n",
      "9999                                                NaN   \n",
      "\n",
      "                                       drinks_purchased state  sex   age  \\\n",
      "0     ['gatorade', 'mug root beer', 'baja blast', 'd...   NaN  NaN   NaN   \n",
      "1                            ['gatorade', 'diet pepsi']   NaN  NaN   NaN   \n",
      "2                            ['mountain dew', 'starry']   NaN  NaN   NaN   \n",
      "3               ['baja blast', 'brisk', 'mountain dew']   NaN  NaN   NaN   \n",
      "4                               ['pepsi', 'diet pepsi']   NaN  NaN   NaN   \n",
      "...                                                 ...   ...  ...   ...   \n",
      "9995                                                NaN    AL    F  47.0   \n",
      "9996                                                NaN    NY    M  30.0   \n",
      "9997                                                NaN    MO    F  42.0   \n",
      "9998                                                NaN    AZ    F  26.0   \n",
      "9999                                                NaN    OH    M  35.0   \n",
      "\n",
      "      occupation  family_size    income  \n",
      "0            NaN          NaN       NaN  \n",
      "1            NaN          NaN       NaN  \n",
      "2            NaN          NaN       NaN  \n",
      "3            NaN          NaN       NaN  \n",
      "4            NaN          NaN       NaN  \n",
      "...          ...          ...       ...  \n",
      "9995  Healthcare          3.0  143571.0  \n",
      "9996      Retail          2.0   37865.0  \n",
      "9997  Government          3.0   96691.0  \n",
      "9998  Government          1.0   62191.0  \n",
      "9999       Other          2.0   53155.0  \n",
      "\n",
      "[20000 rows x 12 columns]\n"
     ]
    }
   ],
   "source": [
    "import pandas as pd\n",
    "\n",
    "df1 = pd.read_csv(\"ad_data.csv\") \n",
    "df2 = pd.read_csv(\"customer_data.csv\") \n",
    "\n",
    "result = pd.concat([df1, df2])\n",
    "print(result)"
   ]
  },
  {
   "cell_type": "code",
   "execution_count": 3,
   "id": "63a1b164",
   "metadata": {
    "scrolled": true
   },
   "outputs": [
    {
     "data": {
      "text/plain": [
       "<bound method DataFrame.info of       customer_id                                            ad_type  \\\n",
       "0            3226                    BOGO - Garlic Steak Nacho Fries   \n",
       "1            5217                                       DISCOUNT-50%   \n",
       "2            5247  REWARD - Free Garlic Steak Nacho Fries with pu...   \n",
       "3            7793                                        DISCOUNT-5%   \n",
       "4            5759                                       DISCOUNT-50%   \n",
       "...           ...                                                ...   \n",
       "9995          904                                  BOGO - Baja Blast   \n",
       "9996         8731                                        DISCOUNT-5%   \n",
       "9997         7396                                       DISCOUNT-10%   \n",
       "9998         8559                                       DISCOUNT-10%   \n",
       "9999         7641                                       DISCOUNT-20%   \n",
       "\n",
       "                   ad_medium  ad_response  \\\n",
       "0          15 sec YouTube ad         True   \n",
       "1          15 sec YouTube ad        False   \n",
       "2          15 sec YouTube ad         True   \n",
       "3     30 sec Hulu commercial        False   \n",
       "4          15 sec YouTube ad        False   \n",
       "...                      ...          ...   \n",
       "9995        15 sec TikTok ad        False   \n",
       "9996      Static Facebook ad        False   \n",
       "9997        15 sec TikTok ad        False   \n",
       "9998      30 sec cable TV ad        False   \n",
       "9999       15 sec YouTube ad        False   \n",
       "\n",
       "                                        items_purchased  \\\n",
       "0     ['steak garlic nacho fries', 'steak garlic nac...   \n",
       "1      ['crunchy taco', 'cheesy bean and rice burrito']   \n",
       "2     ['steak garlic nacho fries', 'cheesy gordita c...   \n",
       "3     ['crunchwrap supreme', 'cravings box', 'crunch...   \n",
       "4                 ['nachos bellgrande', 'crunchy taco']   \n",
       "...                                                 ...   \n",
       "9995                       ['steak garlic nacho fries']   \n",
       "9996  ['crunchwrap supreme', 'spicy potato soft taco...   \n",
       "9997                       ['steak garlic nacho fries']   \n",
       "9998  ['cinnamon twists', 'mexican pizza', 'cinnamon...   \n",
       "9999                             ['chicken quesadilla']   \n",
       "\n",
       "                                       drinks_purchased  \n",
       "0     ['gatorade', 'mug root beer', 'baja blast', 'd...  \n",
       "1                            ['gatorade', 'diet pepsi']  \n",
       "2                            ['mountain dew', 'starry']  \n",
       "3               ['baja blast', 'brisk', 'mountain dew']  \n",
       "4                               ['pepsi', 'diet pepsi']  \n",
       "...                                                 ...  \n",
       "9995                                   ['mountain dew']  \n",
       "9996  ['mountain dew', 'brisk', 'starry', 'baja blast']  \n",
       "9997                                       ['gatorade']  \n",
       "9998  ['gatorade', 'mug root beer', 'iced tea', 'ice...  \n",
       "9999                                     ['baja blast']  \n",
       "\n",
       "[10000 rows x 6 columns]>"
      ]
     },
     "execution_count": 3,
     "metadata": {},
     "output_type": "execute_result"
    }
   ],
   "source": [
    "df1.info"
   ]
  },
  {
   "cell_type": "code",
   "execution_count": 4,
   "id": "7e9e0d50",
   "metadata": {},
   "outputs": [
    {
     "data": {
      "text/plain": [
       "<bound method DataFrame.info of       customer_id state sex   age    occupation  family_size  income\n",
       "0            9167    MO   F  42.0  Food Service            1   40343\n",
       "1             531    MI   F  36.0        Retail            4   41730\n",
       "2            2265    CA   F  25.0            IT            0   84024\n",
       "3            7550    VA   M  38.0  Food Service            2   38990\n",
       "4            5334    MT   M  35.0  Food Service            1   33400\n",
       "...           ...   ...  ..   ...           ...          ...     ...\n",
       "9995         3616    AL   F  47.0    Healthcare            3  143571\n",
       "9996         7670    NY   M  30.0        Retail            2   37865\n",
       "9997         7248    MO   F  42.0    Government            3   96691\n",
       "9998         7699    AZ   F  26.0    Government            1   62191\n",
       "9999         2112    OH   M  35.0         Other            2   53155\n",
       "\n",
       "[10000 rows x 7 columns]>"
      ]
     },
     "execution_count": 4,
     "metadata": {},
     "output_type": "execute_result"
    }
   ],
   "source": [
    "df2.info"
   ]
  },
  {
   "cell_type": "markdown",
   "id": "880ff05f",
   "metadata": {},
   "source": [
    "### 2. Training Your Model\n",
    "In the cell seen below, write the code you need to train a K-means clustering model. Make sure you describe the center of each cluster found.\n",
    "\n",
    "*Note, level 5 work uses at least 3 features to train a K-means model using only the standard Python library and Pandas. A level 4 uses external libraries like scikit or numpy.*"
   ]
  },
  {
   "cell_type": "code",
   "execution_count": 3,
   "id": "a87a9144",
   "metadata": {},
   "outputs": [],
   "source": [
    "# Train model here."
   ]
  },
  {
   "cell_type": "markdown",
   "id": "0fe52f67",
   "metadata": {},
   "source": [
    "#### Don't forget to describe the centers of the clusters you found."
   ]
  },
  {
   "cell_type": "markdown",
   "id": "cfb2b903",
   "metadata": {},
   "source": [
    "### 3. Testing Your Model\n",
    "In the cell seen below, write the code you need to test your K-means model. Then, interpret your findings.\n",
    "\n",
    "*Note, level 5 testing uses both an elbow plot and a silhouette score to evaluate your model. Level 4 uses one or the other.*"
   ]
  },
  {
   "cell_type": "code",
   "execution_count": 2,
   "id": "24f8b990",
   "metadata": {},
   "outputs": [],
   "source": [
    "# Test model here."
   ]
  },
  {
   "cell_type": "markdown",
   "id": "32a8c369",
   "metadata": {},
   "source": [
    "#### Interpret your elbow plot and/or silhouette score here."
   ]
  },
  {
   "cell_type": "markdown",
   "id": "343eb3f7",
   "metadata": {},
   "source": [
    "### 4. Final Answer\n",
    "\n",
    "In the first cell seen below, describe the cluster you have chosen to target with your ad, making sure to describe the type of ad they were the most likely to respond to. Then, use software of your choosing to create the ad you will need to target this cluster. You do not need to create an ad for both the nacho fries and the Baja Blast. You can focus on one if that's what your cluster cares about most.\n",
    "\n",
    "In the second cell seen below, include a link to your ad.\n",
    "\n",
    "*Note, a level 5 ad uses the medium (static image or video) the cluster most likely responded to.* "
   ]
  },
  {
   "cell_type": "markdown",
   "id": "25533722",
   "metadata": {},
   "source": [
    "#### Describe the cluster you are targeting here."
   ]
  },
  {
   "cell_type": "markdown",
   "id": "e29adde2",
   "metadata": {},
   "source": [
    "#### Link your ad here."
   ]
  }
 ],
 "metadata": {
  "kernelspec": {
   "display_name": "Python 3 (ipykernel)",
   "language": "python",
   "name": "python3"
  },
  "language_info": {
   "codemirror_mode": {
    "name": "ipython",
    "version": 3
   },
   "file_extension": ".py",
   "mimetype": "text/x-python",
   "name": "python",
   "nbconvert_exporter": "python",
   "pygments_lexer": "ipython3",
   "version": "3.9.13"
  }
 },
 "nbformat": 4,
 "nbformat_minor": 5
}
