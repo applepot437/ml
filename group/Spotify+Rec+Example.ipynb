{
 "cells": [
  {
   "cell_type": "markdown",
   "id": "02f11418",
   "metadata": {},
   "source": [
    "# Plan:\n",
    "- 1. Create a dataset that describes the \"major\" characteristics of each playlist:\n",
    "    - Average popularity score\n",
    "    - Mode of year of album release \n",
    "    - Mode of artist\n",
    "    \n",
    "- 2. Cluster using DBSCAN.\n",
    "- 3. Recommend the song that appears the most in the cluster and isn't already found in Vetting playlist."
   ]
  },
  {
   "cell_type": "code",
   "execution_count": 10,
   "id": "37fe700a",
   "metadata": {},
   "outputs": [],
   "source": [
    "import pandas as pd\n",
    "import json\n",
    "import requests\n",
    "from datetime import datetime\n",
    "import math\n",
    "import os\n",
    "import time\n",
    "from sklearn.cluster import DBSCAN\n",
    "from sklearn.metrics import silhouette_score\n",
    "import numpy as np\n",
    "import seaborn as sns"
   ]
  },
  {
   "cell_type": "markdown",
   "id": "9a15c96d",
   "metadata": {},
   "source": [
    "### Setup Spotify API Authorization token "
   ]
  },
  {
   "cell_type": "code",
   "execution_count": 11,
   "id": "bb84ad7a",
   "metadata": {},
   "outputs": [],
   "source": [
    "def get_token(client_id, client_secret):\n",
    "    '''\n",
    "    Returns the unique token needed to use the Spotify API.\n",
    "    You do not need to change anything about the body of this function.\n",
    "    \n",
    "    Parameters:\n",
    "        - client_id: A unique string that is provided to you when you setup a Spotify API account\n",
    "        - client_secret: A unique string that is provided to you when you setup a Spotify API account\n",
    "    '''\n",
    "    token_url = 'https://accounts.spotify.com/api/token'\n",
    "    \n",
    "    headers = {\n",
    "        'Content-Type': 'application/x-www-form-urlencoded'\n",
    "    }\n",
    "    \n",
    "    data = {\n",
    "        'grant_type': 'client_credentials',\n",
    "        'client_id': client_id,\n",
    "        'client_secret': client_secret\n",
    "    }\n",
    "    \n",
    "    response = requests.post(token_url, headers=headers, data=data)\n",
    "    return response.json()"
   ]
  },
  {
   "cell_type": "code",
   "execution_count": 12,
   "id": "4c8932cc",
   "metadata": {
    "scrolled": true
   },
   "outputs": [],
   "source": [
    "client_id = 'YOUR ID HERE' # ADD YOUR CLIENT ID HERE\n",
    "client_secret = 'YOUR SECRET HERE' # ADD YOUR CLIENT SECRET HERE\n",
    "\n",
    "token_response = get_token(client_id, client_secret)\n",
    "# access_token = token_response['access_token']\n",
    "# headers = {Authorization': 'Bearer ' + access_token}"
   ]
  },
  {
   "cell_type": "markdown",
   "id": "2c46da87",
   "metadata": {},
   "source": [
    "### Get data for Ms. Spindt's playlist"
   ]
  },
  {
   "cell_type": "code",
   "execution_count": 13,
   "id": "65e15936",
   "metadata": {},
   "outputs": [],
   "source": [
    "# Read in Ms. Spindt's playlist\n",
    "with open('vetting_playlist.json', 'r') as file:\n",
    "    vetting = json.load(file)['tracks']['items']"
   ]
  },
  {
   "cell_type": "code",
   "execution_count": 14,
   "id": "91230717",
   "metadata": {},
   "outputs": [],
   "source": [
    "def get_avg_pop_vetting(playlist):\n",
    "    '''\n",
    "    Returns the average popularity score of all tracks found in a playlist.\n",
    "    \n",
    "    Parameters:\n",
    "        - playlist: a list of json objects.\n",
    "    '''\n",
    "    total = 0\n",
    "    count = 0\n",
    "    for track in playlist:\n",
    "        pop_score = track['track']['popularity']\n",
    "        if pop_score:\n",
    "            total += pop_score\n",
    "            count += 1\n",
    "    return total/count"
   ]
  },
  {
   "cell_type": "code",
   "execution_count": 15,
   "id": "6374c414",
   "metadata": {},
   "outputs": [],
   "source": [
    "def get_mode_year_vetting(playlist):\n",
    "    '''\n",
    "    Returns the most frequent year for album release in the playlist.\n",
    "    \n",
    "    Parameters:\n",
    "        - playlist: a list of json objects.\n",
    "    '''\n",
    "    counts = {}\n",
    "    for track in playlist:\n",
    "        date = track['track']['album']['release_date']\n",
    "        if date:\n",
    "            year = date.split('-')[0] # The date is a string that follows the pattern: year - month - day\n",
    "            if year not in counts.keys():\n",
    "                counts[year] = 1\n",
    "            else:\n",
    "                counts[year] += 1  \n",
    "    return int(max(counts.items(), key=lambda x: x[1])[0]) # Determines which year appears the most and returns it"
   ]
  },
  {
   "cell_type": "code",
   "execution_count": 16,
   "id": "32bcb98c",
   "metadata": {},
   "outputs": [],
   "source": [
    "def get_mode_artist_vetting(playlist):\n",
    "    '''\n",
    "    Returns the most common artist found in the playlist.\n",
    "    \n",
    "    Parameters:\n",
    "        - playlist: a list of json objects.\n",
    "    '''\n",
    "    counts = {}\n",
    "    for track in playlist:\n",
    "        artist = track['track']['artists'][0]['name'] # Ignoring secondary artists\n",
    "        if artist not in counts.keys():\n",
    "            counts[artist] = 1\n",
    "        else:\n",
    "            counts[artist] += 1\n",
    "    return max(counts.items(), key=lambda x: x[1])[0] # Determines which artist appears the most and returns it"
   ]
  },
  {
   "cell_type": "code",
   "execution_count": 17,
   "id": "db41e978",
   "metadata": {},
   "outputs": [],
   "source": [
    "# Gets average popularity score, most frequent year for album release, and most frequent artist for Ms. Spindt's playlist\n",
    "vetting_avg_pop = get_avg_pop_vetting(vetting)\n",
    "vetting_year = get_mode_year_vetting(vetting)\n",
    "vetting_artist = get_mode_artist_vetting(vetting)"
   ]
  },
  {
   "cell_type": "markdown",
   "id": "d5bd04f8",
   "metadata": {},
   "source": [
    "### Get data for the first 1000 Spotify playlists"
   ]
  },
  {
   "cell_type": "code",
   "execution_count": 18,
   "id": "e3b39f28",
   "metadata": {},
   "outputs": [
    {
     "ename": "FileNotFoundError",
     "evalue": "[Errno 2] No such file or directory: 'first_file.json'",
     "output_type": "error",
     "traceback": [
      "\u001b[1;31m---------------------------------------------------------------------------\u001b[0m",
      "\u001b[1;31mFileNotFoundError\u001b[0m                         Traceback (most recent call last)",
      "\u001b[1;32m~\\AppData\\Local\\Temp\\ipykernel_4656\\2112258671.py\u001b[0m in \u001b[0;36m<module>\u001b[1;34m\u001b[0m\n\u001b[0;32m      1\u001b[0m \u001b[1;31m# Read in the first 1000 playlists from the Spotify Million\u001b[0m\u001b[1;33m\u001b[0m\u001b[1;33m\u001b[0m\u001b[0m\n\u001b[1;32m----> 2\u001b[1;33m \u001b[1;32mwith\u001b[0m \u001b[0mopen\u001b[0m\u001b[1;33m(\u001b[0m\u001b[1;34m'first_file.json'\u001b[0m\u001b[1;33m,\u001b[0m \u001b[1;34m'r'\u001b[0m\u001b[1;33m)\u001b[0m \u001b[1;32mas\u001b[0m \u001b[0mfile\u001b[0m\u001b[1;33m:\u001b[0m\u001b[1;33m\u001b[0m\u001b[1;33m\u001b[0m\u001b[0m\n\u001b[0m\u001b[0;32m      3\u001b[0m     \u001b[0mplaylists\u001b[0m \u001b[1;33m=\u001b[0m \u001b[0mjson\u001b[0m\u001b[1;33m.\u001b[0m\u001b[0mload\u001b[0m\u001b[1;33m(\u001b[0m\u001b[0mfile\u001b[0m\u001b[1;33m)\u001b[0m\u001b[1;33m[\u001b[0m\u001b[1;34m'playlists'\u001b[0m\u001b[1;33m]\u001b[0m \u001b[1;31m# Notice this does not use the same structure as vetting_playlist.json\u001b[0m\u001b[1;33m\u001b[0m\u001b[1;33m\u001b[0m\u001b[0m\n",
      "\u001b[1;31mFileNotFoundError\u001b[0m: [Errno 2] No such file or directory: 'first_file.json'"
     ]
    },
    {
     "ename": "FileNotFoundError",
     "evalue": "[Errno 2] No such file or directory: 'first_file.json'",
     "output_type": "error",
     "traceback": [
      "\u001b[1;31m---------------------------------------------------------------------------\u001b[0m",
      "\u001b[1;31mFileNotFoundError\u001b[0m                         Traceback (most recent call last)",
      "\u001b[1;32m~\\AppData\\Local\\Temp\\ipykernel_4656\\2112258671.py\u001b[0m in \u001b[0;36m<module>\u001b[1;34m\u001b[0m\n\u001b[0;32m      1\u001b[0m \u001b[1;31m# Read in the first 1000 playlists from the Spotify Million\u001b[0m\u001b[1;33m\u001b[0m\u001b[1;33m\u001b[0m\u001b[0m\n\u001b[1;32m----> 2\u001b[1;33m \u001b[1;32mwith\u001b[0m \u001b[0mopen\u001b[0m\u001b[1;33m(\u001b[0m\u001b[1;34m'first_file.json'\u001b[0m\u001b[1;33m,\u001b[0m \u001b[1;34m'r'\u001b[0m\u001b[1;33m)\u001b[0m \u001b[1;32mas\u001b[0m \u001b[0mfile\u001b[0m\u001b[1;33m:\u001b[0m\u001b[1;33m\u001b[0m\u001b[1;33m\u001b[0m\u001b[0m\n\u001b[0m\u001b[0;32m      3\u001b[0m     \u001b[0mplaylists\u001b[0m \u001b[1;33m=\u001b[0m \u001b[0mjson\u001b[0m\u001b[1;33m.\u001b[0m\u001b[0mload\u001b[0m\u001b[1;33m(\u001b[0m\u001b[0mfile\u001b[0m\u001b[1;33m)\u001b[0m\u001b[1;33m[\u001b[0m\u001b[1;34m'playlists'\u001b[0m\u001b[1;33m]\u001b[0m \u001b[1;31m# Notice this does not use the same structure as vetting_playlist.json\u001b[0m\u001b[1;33m\u001b[0m\u001b[1;33m\u001b[0m\u001b[0m\n",
      "\u001b[1;31mFileNotFoundError\u001b[0m: [Errno 2] No such file or directory: 'first_file.json'"
     ]
    }
   ],
   "source": [
    "# Read in the first 1000 playlists from the Spotify Million \n",
    "with open('first_file.json', 'r') as file:\n",
    "    playlists = json.load(file)['playlists'] # Notice this does not use the same structure as vetting_playlist.json"
   ]
  },
  {
   "cell_type": "code",
   "execution_count": null,
   "id": "b22c6ac4",
   "metadata": {},
   "outputs": [],
   "source": [
    "def get_batch_track_info(uris):\n",
    "    '''\n",
    "    Returns a tuple uris and track info using the '/tracks' endpoint.\n",
    "    The 'tracks' endpoint can only retrieve info for at most 50 songs at a time\n",
    "    \n",
    "    Parameters:\n",
    "        - uris: a list of uri strings.\n",
    "    '''\n",
    "    combo = ','.join(uris)\n",
    "    response = requests.get(\"https://api.spotify.com/v1/tracks?ids=\" + combo, headers=headers)\n",
    "\n",
    "    # Check if request was successful\n",
    "    if response.status_code == 200:\n",
    "        return zip(uris, response.json()['tracks']) # This pairs each track URI with its info json payload\n",
    "    \n",
    "    # If token expired, refresh and call get_batch_track_info again\n",
    "    elif response.status_code == 401:\n",
    "        token_response = get_token(client_id, client_secret)\n",
    "        access_token = token_response['access_token']\n",
    "        headers['Authorization'] = 'Bearer ' + access_token\n",
    "        return get_batch_track_info(uris)\n",
    "    else:\n",
    "        raise Exception(f\"Failed to fetch tracks: {response.status_code} {response.text}\")"
   ]
  },
  {
   "cell_type": "code",
   "execution_count": null,
   "id": "d702b932",
   "metadata": {},
   "outputs": [],
   "source": [
    "def find_empty_tracks(tracks):\n",
    "    '''\n",
    "    Returns a list of songs that I have not requested info from.\n",
    "    \n",
    "    Parameters:\n",
    "        - tracks: a list of Spotify uris.\n",
    "    '''\n",
    "    todo = []\n",
    "    for uri,info in tracks.items():\n",
    "        if not info:\n",
    "            todo.append(uri)\n",
    "    return todo"
   ]
  },
  {
   "cell_type": "code",
   "execution_count": null,
   "id": "eefd1ba3",
   "metadata": {},
   "outputs": [],
   "source": [
    "# Create a json file of the data just in case something happens to while making requests to the Spotify API\n",
    "# The file makes it so I can start from where I left off.\n",
    "\n",
    "# json_file = \"playlist_tracks.json\"\n",
    "# if not os.path.exists(json_file):\n",
    "#     with open(json_file, 'w') as file:\n",
    "#         json.dump({}, file)"
   ]
  },
  {
   "cell_type": "code",
   "execution_count": null,
   "id": "3e9ece3b",
   "metadata": {},
   "outputs": [],
   "source": [
    "# Code needed to make requests to Spotify API in 50 track batches\n",
    "# After each batch, the json payload is saved to the json file\n",
    "\n",
    "# with open(json_file, 'r') as file:\n",
    "#     unique_tracks = json.load(file)\n",
    "    \n",
    "# for playlist in playlists:\n",
    "#     for track in playlist['tracks']:\n",
    "#         uri = track['track_uri'].split(':')[2]\n",
    "#         if uri not in unique_tracks.keys():\n",
    "#             unique_tracks[uri] = {}\n",
    "\n",
    "# empty_tracks = find_empty_tracks(unique_tracks)\n",
    "\n",
    "# groups = math.ceil(len(empty_tracks) / 50)\n",
    "# for i in range(groups):\n",
    "#     print(f'processing {i+1}/{groups} {datetime.now()}')\n",
    "#     chunk = empty_tracks[-50:]\n",
    "#     track_info = get_batch_track_info(chunk)\n",
    "#     for uri, payload in track_info:\n",
    "#         unique_tracks[uri] = payload\n",
    "#         with open(json_file, 'w') as file:\n",
    "#             json.dump(unique_tracks, file)\n",
    "#     del empty_tracks[-50:]"
   ]
  },
  {
   "cell_type": "code",
   "execution_count": null,
   "id": "84ee2239",
   "metadata": {},
   "outputs": [],
   "source": [
    "# Open the json file created from Spotify API\n",
    "with open('playlist_tracks.json', 'r') as file:\n",
    "    all_data = json.load(file)\n",
    "\n",
    "len(all_data)"
   ]
  },
  {
   "cell_type": "code",
   "execution_count": null,
   "id": "578bd1d4",
   "metadata": {},
   "outputs": [],
   "source": [
    "def get_avg_pop(playlist):\n",
    "    '''\n",
    "    Returns the average popularity score for a playlist from the first 1000 playlists in the Spotify Million.\n",
    "        - A separate function is needed because the structure of the Spotify Million dataset differs from Vetting.\n",
    "        - There are some small errors in the data that require additional validation. \n",
    "            - For example, one Tim McGraw song is missing the 'popularity' section.\n",
    "    \n",
    "    Parameters:\n",
    "        - playlist: a json object.\n",
    "    '''\n",
    "    total = 0\n",
    "    for track in playlist['tracks']:\n",
    "        uri = track['track_uri'].split(':')[2]\n",
    "        if all_data[uri]:\n",
    "            if 'popularity' in all_data[uri].keys():\n",
    "                pop_score = all_data[uri]['popularity']\n",
    "                total += pop_score\n",
    "    return float((total / len(playlist['tracks'])))"
   ]
  },
  {
   "cell_type": "code",
   "execution_count": null,
   "id": "440ec98d",
   "metadata": {},
   "outputs": [],
   "source": [
    "def get_top_release_year(playlist):\n",
    "    '''\n",
    "    Returns the most frequent year an album was released from the first 1000 playlists in the Spotify Million.\n",
    "       - A separate function is needed because the structure of the Spotify Million dataset differs from Vetting.\n",
    "        - There are some small errors in the data that require additional validation. \n",
    "            - For example, one Tim McGraw song is missing the 'popularity' section.\n",
    "            \n",
    "    Parameters:\n",
    "        - playlist: a json object.\n",
    "    '''\n",
    "    counts = {}\n",
    "    for track in playlist['tracks']:\n",
    "        uri = track['track_uri'].split(':')[2]\n",
    "        if all_data[uri]:\n",
    "            if 'album' in all_data[uri].keys() and 'release_date' in all_data[uri]['album']:\n",
    "                    date = all_data[uri]['album']['release_date']\n",
    "                    if date: \n",
    "                        year = date.split('-')[0] # The date is a string that follows the pattern: year - month - day\n",
    "                        if year not in counts.keys():\n",
    "                            counts[year] = 1\n",
    "                        else:\n",
    "                            counts[year] += 1 \n",
    "            \n",
    "    return int(max(counts.items(), key=lambda x: x[1])[0]) # Determines which year appears the most and returns it"
   ]
  },
  {
   "cell_type": "code",
   "execution_count": null,
   "id": "eeda9350",
   "metadata": {},
   "outputs": [],
   "source": [
    "def get_top_artist(playlist):\n",
    "    '''\n",
    "    Returns the most frequent artist that appears in a playlist from the Spotify Million.\n",
    "    A separate function is needed because the structure of the Spotify Million dataset differs from Vetting.\n",
    "    \n",
    "    Parameters:\n",
    "        - playlist: a json object.\n",
    "    '''\n",
    "    counts = {}\n",
    "    for track in playlist['tracks']:\n",
    "        artist = track['artist_name']\n",
    "        if artist not in counts.keys():\n",
    "            counts[artist] = 1\n",
    "        else:\n",
    "            counts[artist] += 1  \n",
    "    return max(counts.items(), key=lambda x: x[1])[0] # Determines which year appears the most and returns it"
   ]
  },
  {
   "cell_type": "code",
   "execution_count": null,
   "id": "9c66124a",
   "metadata": {},
   "outputs": [],
   "source": [
    "df = {\n",
    "    'id': [], \n",
    "    'avg_popularity': [],\n",
    "    'top_year': [],\n",
    "    'top_artist': []\n",
    "}\n",
    "\n",
    "for playlist in playlists:\n",
    "    df['id'].append(playlist['pid'])\n",
    "    df['avg_popularity'].append(get_avg_pop(playlist))\n",
    "    df['top_year'].append(get_top_release_year(playlist))\n",
    "    df['top_artist'].append(get_top_artist(playlist))"
   ]
  },
  {
   "cell_type": "code",
   "execution_count": null,
   "id": "404e7859",
   "metadata": {},
   "outputs": [],
   "source": [
    "df = pd.DataFrame(df)\n",
    "\n",
    "# Ms. Spindt's playlist will be last in dataframe\n",
    "df.loc[1000] = {\n",
    "    'id': 1000,\n",
    "    'avg_popularity': vetting_avg_pop,\n",
    "    'top_year': vetting_year,\n",
    "    'top_artist': vetting_artist\n",
    "}\n",
    "\n",
    "df.info() "
   ]
  },
  {
   "cell_type": "markdown",
   "id": "413a929e",
   "metadata": {},
   "source": [
    "### Train/Test a DBSCAN Model"
   ]
  },
  {
   "cell_type": "code",
   "execution_count": null,
   "id": "9209e366",
   "metadata": {},
   "outputs": [],
   "source": [
    "X = df[['avg_popularity', 'top_year']]\n",
    "radius_tests = np.arange(0.1, 100.0, 0.1) # list of values to try for eps\n",
    "max_sil = {\n",
    "    'max_sil_score': 0,\n",
    "    'eps': 0,\n",
    "    'min_samps': 0\n",
    "}\n",
    "for sample in range(30, 100):\n",
    "    print(\"Sample:\", sample)\n",
    "    print(\"Max Silhouette Score\", max_sil['max_sil_score'])\n",
    "    for val in radius_tests:\n",
    "        model = DBSCAN(eps=val, min_samples=sample).fit(X)\n",
    "        if len(set(model.labels_)) > 2: # Checks if more than 1 cluster was found\n",
    "            new_sil_score = silhouette_score(X, model.fit_predict(X))\n",
    "            current_high_score = max_sil['max_sil_score']\n",
    "            if new_sil_score > current_high_score:\n",
    "                max_sil['max_sil_score'] = new_sil_score\n",
    "                max_sil['eps'] = val\n",
    "                max_sil['min_samps'] = sample"
   ]
  },
  {
   "cell_type": "markdown",
   "id": "5cf52db4",
   "metadata": {},
   "source": [
    "### Results"
   ]
  },
  {
   "cell_type": "code",
   "execution_count": null,
   "id": "8d99bd91",
   "metadata": {},
   "outputs": [],
   "source": [
    "# Best Model:\n",
    "model = DBSCAN(eps=max_sil['eps'], min_samples=max_sil['min_samps']).fit(X)\n",
    "df['cluster_labels'] = model.labels_\n",
    "\n",
    "sns.scatterplot(data=df, x='avg_popularity', y='top_year', hue='cluster_labels')"
   ]
  },
  {
   "cell_type": "code",
   "execution_count": null,
   "id": "8a2d2d30",
   "metadata": {},
   "outputs": [],
   "source": [
    "# Ms. Spindt's playlist is in cluster 0\n",
    "df.tail()"
   ]
  },
  {
   "cell_type": "code",
   "execution_count": null,
   "id": "f970d71a",
   "metadata": {},
   "outputs": [],
   "source": [
    "# Determine the most frequent song for all playlists in cluster 0\n",
    "count = {}\n",
    "cluster_0 = df[df['cluster_labels'] == 0]\n",
    "for pid in cluster_0['id']:\n",
    "    for playlist in playlists:\n",
    "        if playlist['pid'] == pid:\n",
    "            for track in playlist['tracks']:\n",
    "                uri = track['track_uri'].split(':')[2]\n",
    "                if uri not in count.keys():\n",
    "                    count[uri] = 1\n",
    "                else:\n",
    "                    count[uri] += 1\n",
    "\n",
    "uri = max(count.items(), key=lambda x: x[1])"
   ]
  },
  {
   "cell_type": "code",
   "execution_count": null,
   "id": "0f53be13",
   "metadata": {},
   "outputs": [],
   "source": [
    "uri"
   ]
  },
  {
   "cell_type": "code",
   "execution_count": null,
   "id": "dbad996e",
   "metadata": {},
   "outputs": [],
   "source": [
    "all_data['1xznGGDReH1oQq0xzbwXa3']"
   ]
  }
 ],
 "metadata": {
  "kernelspec": {
   "display_name": "Python 3 (ipykernel)",
   "language": "python",
   "name": "python3"
  },
  "language_info": {
   "codemirror_mode": {
    "name": "ipython",
    "version": 3
   },
   "file_extension": ".py",
   "mimetype": "text/x-python",
   "name": "python",
   "nbconvert_exporter": "python",
   "pygments_lexer": "ipython3",
   "version": "3.9.13"
  }
 },
 "nbformat": 4,
 "nbformat_minor": 5
}
